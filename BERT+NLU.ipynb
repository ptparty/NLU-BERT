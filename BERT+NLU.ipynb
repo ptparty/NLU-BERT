{
 "cells": [
  {
   "cell_type": "code",
   "execution_count": 1,
   "metadata": {},
   "outputs": [],
   "source": [
    "from model.transformer_MT import *\n",
    "from model.sentencepiece import *\n",
    "from NLU.data_process import *\n",
    "from NLU.utils import *\n",
    "from NLU.train import *\n",
    "from NLU.inference import *\n",
    "from NLU.NLU_model import *\n",
    "from BERT.vocab import *\n",
    "# import warnings\n",
    "# warnings.filterwarnings(\"ignore\")"
   ]
  },
  {
   "cell_type": "code",
   "execution_count": 2,
   "metadata": {},
   "outputs": [],
   "source": [
    "TRAIN = False\n",
    "if TRAIN:\n",
    "    loc1 = os.path.join(constant.BERT_data_path, 'ko.txt')\n",
    "    loc2 = os.path.join(constant.BERT_data_path, 'sum.txt')\n",
    "    loc1_num = sum(1 for line in open(loc1))\n",
    "    loc2_num = sum(1 for line in open(loc2))\n",
    "    print(loc1_num)\n",
    "    print(loc2_num)\n",
    "    up_sample = int(loc1_num / loc2_num) if int(loc1_num / loc2_num) > 1 else 1\n",
    "    filenames = [loc1, loc2]\n",
    "    fileiter = [1, up_sample]\n",
    "    sp, vocabs = build_sp(is_train=True, filenames=filenames, fileiter=fileiter)\n",
    "    #sp, vocabs = build_sp(is_train=True, filenames=sc)\n",
    "else:\n",
    "    sp, vocabs = build_sp(is_train=False)"
   ]
  },
  {
   "cell_type": "code",
   "execution_count": 3,
   "metadata": {},
   "outputs": [],
   "source": [
    "TRAIN = False\n",
    "if TRAIN:\n",
    "    vocab = WordVocab(vocabs)\n",
    "    save_path = os.path.join(constant.BERT_model_path, 'vocab.pkl')\n",
    "    vocab.save_vocab(save_path)\n",
    "else:\n",
    "    save_path = os.path.join(constant.BERT_model_path, 'vocab.pkl')\n",
    "    vocab = WordVocab.load_vocab(save_path)"
   ]
  },
  {
   "cell_type": "code",
   "execution_count": 4,
   "metadata": {},
   "outputs": [
    {
     "data": {
      "text/plain": [
       "10004"
      ]
     },
     "execution_count": 4,
     "metadata": {},
     "output_type": "execute_result"
    }
   ],
   "source": [
    "len(vocab.stoi)"
   ]
  },
  {
   "cell_type": "code",
   "execution_count": 5,
   "metadata": {},
   "outputs": [],
   "source": [
    "DL = Multi_Turn_Processor(constant.NLU_data_path, vocab.stoi)"
   ]
  },
  {
   "cell_type": "code",
   "execution_count": 6,
   "metadata": {},
   "outputs": [
    {
     "name": "stdout",
     "output_type": "stream",
     "text": [
      "(10004, 269, 42, 0)\n",
      "5\n",
      "768 76 10\n"
     ]
    }
   ],
   "source": [
    "print(DL.get_params())\n",
    "print(constant.n_utter)\n",
    "print(DL.num_train,DL.num_valid,DL.num_test)"
   ]
  },
  {
   "cell_type": "code",
   "execution_count": 7,
   "metadata": {},
   "outputs": [],
   "source": [
    "n_utter=constant.n_utter\n",
    "save_path = os.path.join(constant.NLU_model_path, 'N'+str(n_utter)+'.pth')"
   ]
  },
  {
   "cell_type": "code",
   "execution_count": 8,
   "metadata": {},
   "outputs": [
    {
     "name": "stderr",
     "output_type": "stream",
     "text": [
      "/root/pcy/For_Service/NLU/NLU_model.py:28: UserWarning: nn.init.xavier_uniform is now deprecated in favor of nn.init.xavier_uniform_.\n",
      "  nn.init.xavier_uniform(p)\n"
     ]
    }
   ],
   "source": [
    "transformer = MT_Transformer(len(vocab.itos)).to(constant.device)\n",
    "model = TFNLU(transformer, len(DL.intent_to_idx), len(DL.entity_to_idx), vocab.pad_index, \n",
    "              cuda=True, \n",
    "              load_weight=False).to(constant.device)"
   ]
  },
  {
   "cell_type": "code",
   "execution_count": 9,
   "metadata": {},
   "outputs": [],
   "source": [
    "crit = nn.NLLLoss(reduction='none')\n",
    "adam = torch.optim.Adam(model.parameters(), lr=0, weight_decay=1e-3, betas=(0.9, 0.999), eps=1e-6)\n",
    "opt = NoamOpt(constant.d_model, 1, constant.warmup_step, adam)\n",
    "trainer = TrainModule(model, DL, sp, crit, opt)"
   ]
  },
  {
   "cell_type": "code",
   "execution_count": 10,
   "metadata": {},
   "outputs": [
    {
     "name": "stdout",
     "output_type": "stream",
     "text": [
      "./NLU/saved_model/N5.pth\n"
     ]
    }
   ],
   "source": [
    "print(save_path)"
   ]
  },
  {
   "cell_type": "code",
   "execution_count": 11,
   "metadata": {},
   "outputs": [
    {
     "name": "stdout",
     "output_type": "stream",
     "text": [
      "100%|██████████| 3/3 [01:12<00:00, 23.58s/it]\n",
      "[0]Train| E_loss:23.603880 | I_loss:4.860927 | E_F1:0.444403 | I_F1:0.013526\n",
      "[0]Valid| E_loss:11.255936 | I_loss:3.809854 | E_F1:0.803328 | I_F1:0.017123\n",
      "100%|██████████| 3/3 [01:09<00:00, 22.57s/it]\n",
      "[1]Train| E_loss:11.257338 | I_loss:3.670179 | E_F1:0.788147 | I_F1:0.108839\n",
      "[1]Valid| E_loss:8.279479 | I_loss:3.343463 | E_F1:0.803328 | I_F1:0.152397\n",
      "100%|██████████| 3/3 [01:10<00:00, 23.59s/it]\n",
      "[2]Train| E_loss:9.510267 | I_loss:3.515958 | E_F1:0.788226 | I_F1:0.089000\n",
      "[2]Valid| E_loss:8.183312 | I_loss:3.375053 | E_F1:0.803328 | I_F1:0.179795\n",
      "100%|██████████| 3/3 [01:14<00:00, 24.51s/it]\n",
      "[3]Train| E_loss:8.770456 | I_loss:3.522423 | E_F1:0.788063 | I_F1:0.086212\n",
      "[3]Valid| E_loss:6.843113 | I_loss:3.278428 | E_F1:0.803328 | I_F1:0.174658\n",
      "100%|██████████| 3/3 [01:15<00:00, 24.25s/it]\n",
      "[4]Train| E_loss:8.191815 | I_loss:3.352535 | E_F1:0.780555 | I_F1:0.157659\n",
      "[4]Valid| E_loss:6.785984 | I_loss:3.531600 | E_F1:0.803873 | I_F1:0.027397\n",
      "100%|██████████| 3/3 [01:16<00:00, 26.61s/it]\n",
      "[5]Train| E_loss:7.995290 | I_loss:3.487617 | E_F1:0.781823 | I_F1:0.076683\n",
      "[5]Valid| E_loss:6.550894 | I_loss:3.441061 | E_F1:0.804419 | I_F1:0.196918\n",
      "100%|██████████| 3/3 [01:14<00:00, 24.57s/it]\n",
      "[6]Train| E_loss:7.493891 | I_loss:3.344910 | E_F1:0.792452 | I_F1:0.170936\n",
      "[6]Valid| E_loss:6.231022 | I_loss:3.719286 | E_F1:0.812330 | I_F1:0.011986\n",
      "100%|██████████| 3/3 [01:12<00:00, 25.32s/it]\n",
      "[7]Train| E_loss:6.860383 | I_loss:3.412873 | E_F1:0.801889 | I_F1:0.118331\n",
      "[7]Valid| E_loss:4.791810 | I_loss:2.977995 | E_F1:0.832242 | I_F1:0.236301\n",
      "100%|██████████| 3/3 [01:10<00:00, 23.77s/it]\n",
      "[8]Train| E_loss:5.820525 | I_loss:3.131133 | E_F1:0.820438 | I_F1:0.195943\n",
      "[8]Valid| E_loss:5.662631 | I_loss:3.645776 | E_F1:0.794326 | I_F1:0.049658\n",
      "100%|██████████| 3/3 [01:08<00:00, 22.23s/it]\n",
      "[9]Train| E_loss:6.115022 | I_loss:3.255804 | E_F1:0.813839 | I_F1:0.188933\n",
      "[9]Valid| E_loss:3.984987 | I_loss:2.817354 | E_F1:0.862793 | I_F1:0.289384\n",
      "100%|██████████| 3/3 [01:16<00:00, 24.71s/it]\n",
      "[10]Train| E_loss:5.335521 | I_loss:2.943315 | E_F1:0.835304 | I_F1:0.237172\n",
      "[10]Valid| E_loss:4.062409 | I_loss:3.413972 | E_F1:0.867430 | I_F1:0.169521\n",
      "100%|██████████| 3/3 [01:17<00:00, 24.66s/it]\n",
      "[11]Train| E_loss:4.280522 | I_loss:2.900133 | E_F1:0.861406 | I_F1:0.269049\n",
      "[11]Valid| E_loss:3.620824 | I_loss:3.127983 | E_F1:0.883797 | I_F1:0.315068\n",
      "100%|██████████| 3/3 [01:16<00:00, 24.69s/it]\n",
      "[12]Train| E_loss:3.855152 | I_loss:2.486461 | E_F1:0.870493 | I_F1:0.369934\n",
      "[12]Valid| E_loss:3.885047 | I_loss:2.687152 | E_F1:0.873159 | I_F1:0.369863\n",
      "100%|██████████| 3/3 [01:15<00:00, 24.64s/it]\n",
      "[13]Train| E_loss:3.711604 | I_loss:2.096763 | E_F1:0.873542 | I_F1:0.465179\n",
      "[13]Valid| E_loss:3.259398 | I_loss:1.945226 | E_F1:0.887616 | I_F1:0.498288\n",
      "100%|██████████| 3/3 [01:17<00:00, 25.41s/it]\n",
      "[14]Train| E_loss:3.049011 | I_loss:1.794711 | E_F1:0.891433 | I_F1:0.538203\n",
      "[14]Valid| E_loss:3.632285 | I_loss:2.105591 | E_F1:0.877796 | I_F1:0.462329\n",
      "100%|██████████| 3/3 [01:10<00:00, 22.58s/it]\n",
      "[15]Train| E_loss:3.144128 | I_loss:1.596988 | E_F1:0.888134 | I_F1:0.588495\n",
      "[15]Valid| E_loss:5.544306 | I_loss:1.708392 | E_F1:0.797054 | I_F1:0.601027\n",
      "100%|██████████| 3/3 [01:13<00:00, 23.72s/it]\n",
      "[16]Train| E_loss:3.410849 | I_loss:1.425119 | E_F1:0.880075 | I_F1:0.633167\n",
      "[16]Valid| E_loss:3.379092 | I_loss:1.690109 | E_F1:0.888707 | I_F1:0.602740\n",
      "100%|██████████| 3/3 [01:17<00:00, 24.62s/it]\n",
      "[17]Train| E_loss:2.692167 | I_loss:1.264588 | E_F1:0.900569 | I_F1:0.673186\n",
      "[17]Valid| E_loss:3.303288 | I_loss:1.632407 | E_F1:0.884343 | I_F1:0.643836\n",
      "100%|██████████| 3/3 [01:18<00:00, 26.32s/it]\n",
      "[18]Train| E_loss:2.795427 | I_loss:1.251735 | E_F1:0.895203 | I_F1:0.672528\n",
      "[18]Valid| E_loss:3.227806 | I_loss:2.479526 | E_F1:0.895526 | I_F1:0.493151\n",
      "100%|██████████| 3/3 [01:12<00:00, 22.88s/it]\n",
      "[19]Train| E_loss:2.119899 | I_loss:1.194716 | E_F1:0.917449 | I_F1:0.691023\n",
      "[19]Valid| E_loss:3.143175 | I_loss:1.469078 | E_F1:0.893890 | I_F1:0.643836\n",
      "100%|██████████| 3/3 [01:15<00:00, 26.08s/it]\n",
      "[20]Train| E_loss:1.960032 | I_loss:0.871596 | E_F1:0.923099 | I_F1:0.758738\n",
      "[20]Valid| E_loss:3.190515 | I_loss:1.701782 | E_F1:0.893890 | I_F1:0.650685\n",
      "100%|██████████| 3/3 [01:14<00:00, 24.48s/it]\n",
      "[21]Train| E_loss:1.656832 | I_loss:0.907168 | E_F1:0.933293 | I_F1:0.756424\n",
      "[21]Valid| E_loss:3.287588 | I_loss:2.292898 | E_F1:0.890344 | I_F1:0.578767\n",
      "100%|██████████| 3/3 [01:13<00:00, 23.14s/it]\n",
      "[22]Train| E_loss:1.863779 | I_loss:0.979171 | E_F1:0.924235 | I_F1:0.735075\n",
      "[22]Valid| E_loss:3.647171 | I_loss:1.502476 | E_F1:0.885979 | I_F1:0.710616\n",
      "100%|██████████| 3/3 [01:15<00:00, 24.15s/it]\n",
      "[23]Train| E_loss:1.600997 | I_loss:0.719684 | E_F1:0.935311 | I_F1:0.801695\n",
      "[23]Valid| E_loss:3.030994 | I_loss:1.345629 | E_F1:0.898254 | I_F1:0.700342\n",
      "100%|██████████| 3/3 [01:15<00:00, 26.07s/it]\n",
      "[24]Train| E_loss:1.290487 | I_loss:0.614368 | E_F1:0.947131 | I_F1:0.834352\n",
      "[24]Valid| E_loss:3.685501 | I_loss:1.470710 | E_F1:0.882433 | I_F1:0.707192\n",
      "100%|██████████| 3/3 [01:16<00:00, 25.72s/it]\n",
      "[25]Train| E_loss:1.229030 | I_loss:0.555652 | E_F1:0.948882 | I_F1:0.846931\n",
      "[25]Valid| E_loss:3.210596 | I_loss:1.519576 | E_F1:0.897163 | I_F1:0.700342\n",
      "100%|██████████| 3/3 [01:10<00:00, 24.39s/it]\n",
      "[26]Train| E_loss:1.031073 | I_loss:0.548453 | E_F1:0.955269 | I_F1:0.840435\n",
      "[26]Valid| E_loss:3.222734 | I_loss:1.378557 | E_F1:0.900164 | I_F1:0.722603\n",
      "100%|██████████| 3/3 [01:06<00:00, 20.93s/it]\n",
      "[27]Train| E_loss:0.945686 | I_loss:0.454362 | E_F1:0.959769 | I_F1:0.873620\n",
      "[27]Valid| E_loss:3.287297 | I_loss:1.585660 | E_F1:0.895799 | I_F1:0.695205\n",
      "100%|██████████| 3/3 [01:10<00:00, 22.99s/it]\n",
      "[28]Train| E_loss:0.884403 | I_loss:0.417428 | E_F1:0.962694 | I_F1:0.880016\n",
      "[28]Valid| E_loss:3.064626 | I_loss:1.494234 | E_F1:0.902073 | I_F1:0.702055\n",
      "100%|██████████| 3/3 [01:11<00:00, 23.23s/it]\n",
      "[29]Train| E_loss:0.815974 | I_loss:0.386098 | E_F1:0.964065 | I_F1:0.885751\n",
      "[29]Valid| E_loss:3.111030 | I_loss:1.646826 | E_F1:0.898527 | I_F1:0.702055\n",
      "100%|██████████| 3/3 [01:08<00:00, 23.87s/it]\n",
      "[30]Train| E_loss:0.788694 | I_loss:0.361021 | E_F1:0.964620 | I_F1:0.891680\n",
      "[30]Valid| E_loss:3.352871 | I_loss:1.678691 | E_F1:0.904255 | I_F1:0.683219\n",
      "100%|██████████| 3/3 [01:08<00:00, 24.12s/it]\n",
      "[31]Train| E_loss:0.749336 | I_loss:0.374157 | E_F1:0.966543 | I_F1:0.891131\n",
      "[31]Valid| E_loss:3.233151 | I_loss:1.689759 | E_F1:0.895254 | I_F1:0.688356\n",
      "100%|██████████| 3/3 [01:07<00:00, 21.88s/it]\n",
      "[32]Train| E_loss:0.697712 | I_loss:0.513926 | E_F1:0.969107 | I_F1:0.867969\n",
      "[32]Valid| E_loss:3.190142 | I_loss:1.794615 | E_F1:0.899345 | I_F1:0.650685\n",
      "100%|██████████| 3/3 [01:11<00:00, 23.40s/it]\n",
      "[33]Train| E_loss:0.681424 | I_loss:0.646560 | E_F1:0.970493 | I_F1:0.833522\n",
      "[33]Valid| E_loss:3.330493 | I_loss:1.520507 | E_F1:0.890071 | I_F1:0.691781\n",
      "100%|██████████| 3/3 [01:07<00:00, 21.89s/it]\n",
      "[34]Train| E_loss:1.054221 | I_loss:0.486729 | E_F1:0.955712 | I_F1:0.868759\n",
      "[34]Valid| E_loss:3.341341 | I_loss:1.922945 | E_F1:0.902346 | I_F1:0.671233\n",
      "100%|██████████| 3/3 [01:11<00:00, 23.48s/it]\n",
      "[35]Train| E_loss:0.639767 | I_loss:0.417055 | E_F1:0.970663 | I_F1:0.879223\n",
      "[35]Valid| E_loss:3.781718 | I_loss:2.019835 | E_F1:0.888980 | I_F1:0.640411\n",
      "100%|██████████| 3/3 [01:10<00:00, 23.17s/it]\n",
      "[36]Train| E_loss:0.614338 | I_loss:0.338657 | E_F1:0.973706 | I_F1:0.902328\n",
      "[36]Valid| E_loss:3.475946 | I_loss:1.682527 | E_F1:0.902073 | I_F1:0.712329\n",
      "100%|██████████| 3/3 [01:07<00:00, 23.47s/it]\n",
      "[37]Train| E_loss:0.646736 | I_loss:0.283629 | E_F1:0.971133 | I_F1:0.915858\n",
      "[37]Valid| E_loss:3.762620 | I_loss:1.643801 | E_F1:0.899618 | I_F1:0.717466\n",
      "100%|██████████| 3/3 [01:05<00:00, 20.93s/it]\n",
      "[38]Train| E_loss:0.521430 | I_loss:0.291985 | E_F1:0.976608 | I_F1:0.910274\n",
      "[38]Valid| E_loss:3.472135 | I_loss:1.832170 | E_F1:0.904801 | I_F1:0.698630\n"
     ]
    }
   ],
   "source": [
    "#Without BERT pretraining\n",
    "trainer.do_train(save_path, int_coef=1.0, ent_coef=1.0, patience=15, max_epoch=1000)"
   ]
  },
  {
   "cell_type": "code",
   "execution_count": 14,
   "metadata": {},
   "outputs": [
    {
     "name": "stdout",
     "output_type": "stream",
     "text": [
      "100%|██████████| 3/3 [01:11<00:00, 23.10s/it]\n",
      "[0]Train| E_loss:58.994197 | I_loss:5.299062 | E_F1:0.004190 | I_F1:0.011507\n",
      "[0]Valid| E_loss:50.147120 | I_loss:4.954790 | E_F1:0.009002 | I_F1:0.013699\n",
      "100%|██████████| 3/3 [01:15<00:00, 26.12s/it]\n",
      "[1]Train| E_loss:46.195791 | I_loss:4.759369 | E_F1:0.046319 | I_F1:0.014870\n",
      "[1]Valid| E_loss:30.832137 | I_loss:4.259275 | E_F1:0.183579 | I_F1:0.027397\n",
      "100%|██████████| 3/3 [01:14<00:00, 24.30s/it]\n",
      "[2]Train| E_loss:26.225343 | I_loss:4.344827 | E_F1:0.375085 | I_F1:0.051837\n",
      "[2]Valid| E_loss:16.381251 | I_loss:3.929570 | E_F1:0.691217 | I_F1:0.075342\n",
      "100%|██████████| 3/3 [01:18<00:00, 25.71s/it]\n",
      "[3]Train| E_loss:17.175539 | I_loss:3.967480 | E_F1:0.700667 | I_F1:0.089793\n",
      "[3]Valid| E_loss:13.277572 | I_loss:3.553801 | E_F1:0.762139 | I_F1:0.092466\n",
      "100%|██████████| 3/3 [01:14<00:00, 23.80s/it]\n",
      "[4]Train| E_loss:14.334000 | I_loss:3.573433 | E_F1:0.733329 | I_F1:0.109323\n",
      "[4]Valid| E_loss:10.747901 | I_loss:3.338013 | E_F1:0.774414 | I_F1:0.157534\n",
      "100%|██████████| 3/3 [01:17<00:00, 26.68s/it]\n",
      "[5]Train| E_loss:11.823487 | I_loss:3.476584 | E_F1:0.753903 | I_F1:0.151647\n",
      "[5]Valid| E_loss:8.658435 | I_loss:3.183641 | E_F1:0.777687 | I_F1:0.198630\n",
      "100%|██████████| 3/3 [01:18<00:00, 27.08s/it]\n",
      "[6]Train| E_loss:9.904702 | I_loss:3.274292 | E_F1:0.761265 | I_F1:0.182780\n",
      "[6]Valid| E_loss:7.124888 | I_loss:3.045754 | E_F1:0.806874 | I_F1:0.231164\n",
      "100%|██████████| 3/3 [01:17<00:00, 26.72s/it]\n",
      "[7]Train| E_loss:8.463516 | I_loss:3.210676 | E_F1:0.785449 | I_F1:0.199547\n",
      "[7]Valid| E_loss:6.075793 | I_loss:2.966610 | E_F1:0.827605 | I_F1:0.244863\n",
      "100%|██████████| 3/3 [01:12<00:00, 25.25s/it]\n",
      "[8]Train| E_loss:7.391227 | I_loss:3.062016 | E_F1:0.804262 | I_F1:0.250149\n",
      "[8]Valid| E_loss:5.344730 | I_loss:2.622706 | E_F1:0.847791 | I_F1:0.354452\n",
      "100%|██████████| 3/3 [01:17<00:00, 25.36s/it]\n",
      "[9]Train| E_loss:6.542257 | I_loss:2.871607 | E_F1:0.822060 | I_F1:0.294197\n",
      "[9]Valid| E_loss:4.730887 | I_loss:2.510423 | E_F1:0.864430 | I_F1:0.366438\n",
      "100%|██████████| 3/3 [01:09<00:00, 24.64s/it]\n",
      "[10]Train| E_loss:5.885361 | I_loss:2.684746 | E_F1:0.833635 | I_F1:0.330792\n",
      "[10]Valid| E_loss:4.282493 | I_loss:2.227149 | E_F1:0.877250 | I_F1:0.409247\n",
      "100%|██████████| 3/3 [01:11<00:00, 24.67s/it]\n",
      "[11]Train| E_loss:5.304959 | I_loss:2.458602 | E_F1:0.846573 | I_F1:0.390324\n",
      "[11]Valid| E_loss:3.927377 | I_loss:2.214104 | E_F1:0.882433 | I_F1:0.422945\n",
      "100%|██████████| 3/3 [01:10<00:00, 22.90s/it]\n",
      "[12]Train| E_loss:4.839898 | I_loss:2.344740 | E_F1:0.855551 | I_F1:0.411169\n",
      "[12]Valid| E_loss:3.625615 | I_loss:1.837345 | E_F1:0.888980 | I_F1:0.522260\n",
      "100%|██████████| 3/3 [01:10<00:00, 23.15s/it]\n",
      "[13]Train| E_loss:4.451303 | I_loss:2.062716 | E_F1:0.863394 | I_F1:0.480628\n",
      "[13]Valid| E_loss:3.412336 | I_loss:1.724560 | E_F1:0.895526 | I_F1:0.542808\n",
      "100%|██████████| 3/3 [01:07<00:00, 22.07s/it]\n",
      "[14]Train| E_loss:4.101563 | I_loss:1.902266 | E_F1:0.871166 | I_F1:0.505924\n",
      "[14]Valid| E_loss:3.204238 | I_loss:1.681699 | E_F1:0.902073 | I_F1:0.525685\n",
      "100%|██████████| 3/3 [01:11<00:00, 23.13s/it]\n",
      "[15]Train| E_loss:3.746689 | I_loss:1.786124 | E_F1:0.879114 | I_F1:0.533479\n",
      "[15]Valid| E_loss:3.027619 | I_loss:1.692109 | E_F1:0.905346 | I_F1:0.551370\n",
      "100%|██████████| 3/3 [01:08<00:00, 23.30s/it]\n",
      "[16]Train| E_loss:3.449693 | I_loss:1.632063 | E_F1:0.885232 | I_F1:0.570032\n",
      "[16]Valid| E_loss:2.860683 | I_loss:1.398800 | E_F1:0.909438 | I_F1:0.633562\n",
      "100%|██████████| 3/3 [01:11<00:00, 23.10s/it]\n",
      "[17]Train| E_loss:3.178596 | I_loss:1.524676 | E_F1:0.892645 | I_F1:0.603722\n",
      "[17]Valid| E_loss:2.785212 | I_loss:1.374336 | E_F1:0.910529 | I_F1:0.636986\n",
      "100%|██████████| 3/3 [01:10<00:00, 24.29s/it]\n",
      "[18]Train| E_loss:2.959596 | I_loss:1.377076 | E_F1:0.896396 | I_F1:0.632339\n",
      "[18]Valid| E_loss:2.678532 | I_loss:1.193581 | E_F1:0.909165 | I_F1:0.652397\n",
      "100%|██████████| 3/3 [01:08<00:00, 23.77s/it]\n",
      "[19]Train| E_loss:2.665992 | I_loss:1.267690 | E_F1:0.904527 | I_F1:0.653982\n",
      "[19]Valid| E_loss:2.594435 | I_loss:1.340847 | E_F1:0.912439 | I_F1:0.628425\n",
      "100%|██████████| 3/3 [01:10<00:00, 24.10s/it]\n",
      "[20]Train| E_loss:2.461228 | I_loss:1.263686 | E_F1:0.911101 | I_F1:0.663711\n",
      "[20]Valid| E_loss:2.512156 | I_loss:1.503083 | E_F1:0.912984 | I_F1:0.618151\n",
      "100%|██████████| 3/3 [01:09<00:00, 23.00s/it]\n",
      "[21]Train| E_loss:2.298487 | I_loss:1.174791 | E_F1:0.916036 | I_F1:0.674137\n",
      "[21]Valid| E_loss:2.480348 | I_loss:1.164802 | E_F1:0.912984 | I_F1:0.667808\n",
      "100%|██████████| 3/3 [01:07<00:00, 22.99s/it]\n",
      "[22]Train| E_loss:2.075458 | I_loss:1.054772 | E_F1:0.921825 | I_F1:0.703147\n",
      "[22]Valid| E_loss:2.409282 | I_loss:1.079009 | E_F1:0.914075 | I_F1:0.710616\n",
      "100%|██████████| 3/3 [01:11<00:00, 23.43s/it]\n",
      "[23]Train| E_loss:1.916311 | I_loss:0.974865 | E_F1:0.926459 | I_F1:0.728228\n",
      "[23]Valid| E_loss:2.387006 | I_loss:1.070835 | E_F1:0.913530 | I_F1:0.722603\n",
      "100%|██████████| 3/3 [01:05<00:00, 22.08s/it]\n",
      "[24]Train| E_loss:1.729726 | I_loss:0.926060 | E_F1:0.933933 | I_F1:0.740050\n",
      "[24]Valid| E_loss:2.358308 | I_loss:1.045142 | E_F1:0.914348 | I_F1:0.726027\n",
      "100%|██████████| 3/3 [01:10<00:00, 23.13s/it]\n",
      "[25]Train| E_loss:1.566451 | I_loss:0.854657 | E_F1:0.938459 | I_F1:0.752607\n",
      "[25]Valid| E_loss:2.358286 | I_loss:1.188952 | E_F1:0.919258 | I_F1:0.719178\n",
      "100%|██████████| 3/3 [01:10<00:00, 24.28s/it]\n",
      "[26]Train| E_loss:1.452089 | I_loss:0.877768 | E_F1:0.940759 | I_F1:0.755188\n",
      "[26]Valid| E_loss:2.369666 | I_loss:1.111767 | E_F1:0.915439 | I_F1:0.712329\n",
      "100%|██████████| 3/3 [01:08<00:00, 21.98s/it]\n",
      "[27]Train| E_loss:1.323969 | I_loss:0.787342 | E_F1:0.946868 | I_F1:0.780472\n",
      "[27]Valid| E_loss:2.444150 | I_loss:1.133201 | E_F1:0.917621 | I_F1:0.715753\n",
      "100%|██████████| 3/3 [01:10<00:00, 23.08s/it]\n",
      "[28]Train| E_loss:1.162405 | I_loss:0.735378 | E_F1:0.952767 | I_F1:0.796009\n",
      "[28]Valid| E_loss:2.421959 | I_loss:1.073573 | E_F1:0.916530 | I_F1:0.724315\n",
      "100%|██████████| 3/3 [01:11<00:00, 24.65s/it]\n",
      "[29]Train| E_loss:1.056426 | I_loss:0.626791 | E_F1:0.955112 | I_F1:0.815978\n",
      "[29]Valid| E_loss:2.354948 | I_loss:1.114115 | E_F1:0.918167 | I_F1:0.708904\n",
      "100%|██████████| 3/3 [01:08<00:00, 24.09s/it]\n",
      "[30]Train| E_loss:0.952990 | I_loss:0.646340 | E_F1:0.960055 | I_F1:0.808517\n",
      "[30]Valid| E_loss:2.402343 | I_loss:1.125688 | E_F1:0.921440 | I_F1:0.703767\n",
      "100%|██████████| 3/3 [01:05<00:00, 21.08s/it]\n",
      "[31]Train| E_loss:0.857283 | I_loss:0.625446 | E_F1:0.963228 | I_F1:0.811107\n",
      "[31]Valid| E_loss:2.495868 | I_loss:1.092681 | E_F1:0.917076 | I_F1:0.720890\n",
      "100%|██████████| 3/3 [01:05<00:00, 21.43s/it]\n",
      "[32]Train| E_loss:0.778525 | I_loss:0.557382 | E_F1:0.966404 | I_F1:0.833509\n",
      "[32]Valid| E_loss:2.334292 | I_loss:1.159239 | E_F1:0.919531 | I_F1:0.720890\n",
      "100%|██████████| 3/3 [01:10<00:00, 22.72s/it]\n",
      "[33]Train| E_loss:0.693936 | I_loss:0.463247 | E_F1:0.969453 | I_F1:0.864252\n",
      "[33]Valid| E_loss:2.671070 | I_loss:1.732679 | E_F1:0.914621 | I_F1:0.630137\n",
      "100%|██████████| 3/3 [01:11<00:00, 23.35s/it]\n",
      "[34]Train| E_loss:0.650594 | I_loss:0.598897 | E_F1:0.971444 | I_F1:0.822949\n",
      "[34]Valid| E_loss:2.460296 | I_loss:1.301490 | E_F1:0.917076 | I_F1:0.693493\n",
      "100%|██████████| 3/3 [01:08<00:00, 22.16s/it]\n",
      "[35]Train| E_loss:0.576465 | I_loss:0.457902 | E_F1:0.974174 | I_F1:0.866344\n",
      "[35]Valid| E_loss:2.434180 | I_loss:1.230137 | E_F1:0.923622 | I_F1:0.707192\n",
      "100%|██████████| 3/3 [01:08<00:00, 22.67s/it]\n",
      "[36]Train| E_loss:0.506824 | I_loss:0.442136 | E_F1:0.978199 | I_F1:0.867971\n",
      "[36]Valid| E_loss:2.299891 | I_loss:1.214663 | E_F1:0.925532 | I_F1:0.720890\n",
      "100%|██████████| 3/3 [01:10<00:00, 23.23s/it]\n",
      "[37]Train| E_loss:0.450139 | I_loss:0.354902 | E_F1:0.979603 | I_F1:0.893289\n",
      "[37]Valid| E_loss:2.339624 | I_loss:1.283143 | E_F1:0.924714 | I_F1:0.708904\n",
      "100%|██████████| 3/3 [01:10<00:00, 23.17s/it]\n",
      "[38]Train| E_loss:0.407386 | I_loss:0.561724 | E_F1:0.982160 | I_F1:0.851627\n",
      "[38]Valid| E_loss:2.432942 | I_loss:1.715389 | E_F1:0.923077 | I_F1:0.674658\n",
      "100%|██████████| 3/3 [01:09<00:00, 22.59s/it]\n",
      "[39]Train| E_loss:0.408288 | I_loss:0.575536 | E_F1:0.980886 | I_F1:0.848809\n",
      "[39]Valid| E_loss:2.341932 | I_loss:1.224961 | E_F1:0.922259 | I_F1:0.727740\n"
     ]
    }
   ],
   "source": [
    "#With BERT pretraining\n",
    "trainer.do_train(save_path, int_coef=1.0, ent_coef=1.0, patience=15, max_epoch=1000)"
   ]
  },
  {
   "cell_type": "code",
   "execution_count": null,
   "metadata": {},
   "outputs": [],
   "source": []
  }
 ],
 "metadata": {
  "kernelspec": {
   "display_name": "Python 3",
   "language": "python",
   "name": "python3"
  },
  "language_info": {
   "codemirror_mode": {
    "name": "ipython",
    "version": 3
   },
   "file_extension": ".py",
   "mimetype": "text/x-python",
   "name": "python",
   "nbconvert_exporter": "python",
   "pygments_lexer": "ipython3",
   "version": "3.6.8"
  }
 },
 "nbformat": 4,
 "nbformat_minor": 2
}
